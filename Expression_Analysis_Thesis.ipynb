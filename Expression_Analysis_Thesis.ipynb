{
 "cells": [
  {
   "cell_type": "markdown",
   "metadata": {},
   "source": [
    "# T1SS Expression Analysis of Flow Cytometry Data"
   ]
  },
  {
   "cell_type": "markdown",
   "metadata": {},
   "source": [
    "This is a data analysis pipeline I developed to analyse flow cytometry data for the Type I Secretion System Expression in E. coli."
   ]
  },
  {
   "cell_type": "markdown",
   "metadata": {},
   "source": [
    "### Import Modules"
   ]
  },
  {
   "cell_type": "code",
   "execution_count": null,
   "metadata": {},
   "outputs": [],
   "source": [
    "import pandas as pd\n",
    "import numpy as np\n",
    "import seaborn as sns\n",
    "import matplotlib.pyplot as plt"
   ]
  },
  {
   "cell_type": "markdown",
   "metadata": {},
   "source": [
    "### Import Data"
   ]
  },
  {
   "cell_type": "code",
   "execution_count": null,
   "metadata": {},
   "outputs": [],
   "source": [
    "df = pd.read_csv(\"Flow_Cytometry_Expression_Data.csv\")"
   ]
  },
  {
   "cell_type": "code",
   "execution_count": null,
   "metadata": {},
   "outputs": [],
   "source": [
    "# Get non-control data\n",
    "experiment_df = df.loc[df[\"Control?\"] == \"No\"]"
   ]
  },
  {
   "cell_type": "markdown",
   "metadata": {},
   "source": [
    "### Apply Standardisation/Normalisation"
   ]
  },
  {
   "cell_type": "code",
   "execution_count": null,
   "metadata": {},
   "outputs": [],
   "source": [
    "# Normalise T1SS data\n",
    "def normalise_T1SS(value,df=experiment_df):\n",
    "    \"\"\"\n",
    "    Function takes T1SS values and standardises based on excess mean and standard deviation\n",
    "    \"\"\"\n",
    "    excess_mean = df[\"Excess(%)\"].mean()\n",
    "    excess_std = df[\"Excess(%)\"].std()\n",
    "    excess_n = len(df[\"Excess(%)\"])\n",
    "    normal_value = (value - excess_mean)/(excess_std/np.sqrt(excess_n))\n",
    "    \n",
    "    return normal_value"
   ]
  },
  {
   "cell_type": "code",
   "execution_count": null,
   "metadata": {},
   "outputs": [],
   "source": [
    "# Make normalised column\n",
    "experiment_df[\"Normalised_T1SS(%)\"] = experiment_df[\"T1SS(%)\"].apply(normalise_T1SS)"
   ]
  },
  {
   "cell_type": "code",
   "execution_count": null,
   "metadata": {},
   "outputs": [],
   "source": [
    "# Plot normalised values\n",
    "experiment_df[\"Normalised_T1SS(%)\"].hist()"
   ]
  },
  {
   "cell_type": "code",
   "execution_count": null,
   "metadata": {},
   "outputs": [],
   "source": [
    "# Plot unnormalised values\n",
    "experiment_df[\"T1SS(%)\"].hist()"
   ]
  },
  {
   "cell_type": "code",
   "execution_count": null,
   "metadata": {},
   "outputs": [],
   "source": [
    "# Plot excess (Q4) values\n",
    "experiment_df[\"Excess(%)\"].hist()"
   ]
  },
  {
   "cell_type": "code",
   "execution_count": null,
   "metadata": {},
   "outputs": [],
   "source": [
    "# Calculate difference between unnormalised T1SS and Excess (Q4)\n",
    "experiment_df[\"T1SS-Excess(%)\"] = experiment_df[\"T1SS(%)\"] - experiment_df[\"Excess(%)\"]"
   ]
  },
  {
   "cell_type": "code",
   "execution_count": null,
   "metadata": {},
   "outputs": [],
   "source": [
    "# Plot difference between unnormalised T1SS and Excess (Q4)\n",
    "experiment_df[\"T1SS-Excess(%)\"].hist()"
   ]
  },
  {
   "cell_type": "code",
   "execution_count": null,
   "metadata": {},
   "outputs": [],
   "source": [
    "# Extract positive values in difference between T1SS and Excess (Q4)\n",
    "new_experiment_df = experiment_df[experiment_df[\"T1SS-Excess(%)\"]>=0]"
   ]
  },
  {
   "cell_type": "code",
   "execution_count": null,
   "metadata": {},
   "outputs": [],
   "source": [
    "# Plot positive values in difference between T1SS and Excess (Q4)\n",
    "new_experiment_df[\"T1SS-Excess(%)\"].hist()"
   ]
  },
  {
   "cell_type": "markdown",
   "metadata": {},
   "source": [
    "Plots shows standardisation/normalisation is correct."
   ]
  },
  {
   "cell_type": "markdown",
   "metadata": {},
   "source": [
    "### Exploratory Data Analysis"
   ]
  },
  {
   "cell_type": "code",
   "execution_count": null,
   "metadata": {},
   "outputs": [],
   "source": [
    "# Extract positive T1SS expression values\n",
    "remove_df = experiment_df.loc[experiment_df[\"Normalised_T1SS(%)\"] >= 0]"
   ]
  },
  {
   "cell_type": "code",
   "execution_count": null,
   "metadata": {},
   "outputs": [],
   "source": [
    "# Extract BL21 Strain results\n",
    "bl21_remove_df = remove_df[remove_df[\"Strain\"] == \"BL21(DE3)\"]"
   ]
  },
  {
   "cell_type": "code",
   "execution_count": null,
   "metadata": {},
   "outputs": [],
   "source": [
    "# Extract MG1655 results - parent and cardiolipin deficient\n",
    "mask = (remove_df[\"Strain\"] == \"MG1655 Parent\") | (remove_df[\"Strain\"] == \"MG1655 Delta cls\")\n",
    "mg1655_remove_df = remove_df[mask]"
   ]
  },
  {
   "cell_type": "code",
   "execution_count": null,
   "metadata": {},
   "outputs": [],
   "source": [
    "# Extract MG1655 parent only\n",
    "mg1655_parent = remove_df[remove_df[\"Strain\"] == \"MG1655 Parent\"]"
   ]
  },
  {
   "cell_type": "code",
   "execution_count": null,
   "metadata": {},
   "outputs": [],
   "source": [
    "# Extract MG1655 cardiolipin deficient only\n",
    "mg1655_deltacls = remove_df[remove_df[\"Strain\"] == \"MG1655 Delta cls\"]"
   ]
  },
  {
   "cell_type": "code",
   "execution_count": null,
   "metadata": {},
   "outputs": [],
   "source": [
    "# save new df\n",
    "remove_df.to_csv(\"Normalised Experimental Data.csv\", index=False)"
   ]
  },
  {
   "cell_type": "code",
   "execution_count": null,
   "metadata": {},
   "outputs": [],
   "source": [
    "# drop columns for plotting\n",
    "remove_df.drop([\"Chloramphenicol_Concentration(ug/ml)\"],axis=1,inplace=True)\n",
    "remove_df.drop(['Date(DDMMYYYY)','Total(%)','Control?','Primary Ig?','Secondary Ig?','Repeat_Measurement?'],axis=1,inplace=True)"
   ]
  },
  {
   "cell_type": "markdown",
   "metadata": {},
   "source": [
    "### Poisson Distribution Fits"
   ]
  },
  {
   "cell_type": "code",
   "execution_count": null,
   "metadata": {},
   "outputs": [],
   "source": [
    "# Round the counts to fit poisson distribution\n",
    "remove_df[\"Rounded_Normalised_T1SS(%)\"] = remove_df[\"Normalised_T1SS(%)\"].round(0)\n",
    "bl21_remove_df[\"Rounded_Normalised_T1SS(%)\"] = bl21_remove_df[\"Normalised_T1SS(%)\"].round(0)\n",
    "mg1655_remove_df[\"Rounded_Normalised_T1SS(%)\"] = mg1655_remove_df[\"Normalised_T1SS(%)\"].round(0)"
   ]
  },
  {
   "cell_type": "code",
   "execution_count": null,
   "metadata": {},
   "outputs": [],
   "source": [
    "# Extract values and counts for plotting\n",
    "remove_df_plot_data = remove_df[\"Rounded_Normalised_T1SS(%)\"].value_counts().to_dict()\n",
    "bl21_plot_data = bl21_remove_df[\"Rounded_Normalised_T1SS(%)\"].value_counts().to_dict()\n",
    "mg1655_plot_data = mg1655_remove_df[\"Rounded_Normalised_T1SS(%)\"].value_counts().to_dict()"
   ]
  },
  {
   "cell_type": "code",
   "execution_count": null,
   "metadata": {},
   "outputs": [],
   "source": [
    "# Find probs by dividing freq by total freq - all strains\n",
    "remove_df_scaled_plot_data = dict()\n",
    "for key, val in remove_df_plot_data.items():\n",
    "    new_val = val/sum(remove_df_plot_data.values())\n",
    "    remove_df_scaled_plot_data[key] = new_val"
   ]
  },
  {
   "cell_type": "code",
   "execution_count": null,
   "metadata": {},
   "outputs": [],
   "source": [
    "# Find probs by dividing freq by total freq - bl21\n",
    "bl21_scaled_plot_data = dict()\n",
    "for key, val in bl21_plot_data.items():\n",
    "    new_val = val/sum(bl21_plot_data.values())\n",
    "    bl21_scaled_plot_data[key] = new_val"
   ]
  },
  {
   "cell_type": "code",
   "execution_count": null,
   "metadata": {},
   "outputs": [],
   "source": [
    "# Find probs by dividing freq by total freq - mg1655\n",
    "mg1655_scaled_plot_data = dict()\n",
    "for key, val in mg1655_plot_data.items():\n",
    "    new_val = val/sum(mg1655_plot_data.values())\n",
    "    mg1655_scaled_plot_data[key] = new_val"
   ]
  },
  {
   "cell_type": "code",
   "execution_count": null,
   "metadata": {},
   "outputs": [],
   "source": [
    "# Three lamda poisson distribution\n",
    "def poisson(x,lam1,lam2,lam3):\n",
    "    y = (((lam1**x) * np.exp(-lam1))/np.math.factorial(x)) + (((lam2**x) * np.exp(-lam2))/np.math.factorial(x)) + (((lam3**x) * np.exp(-lam3))/np.math.factorial(x))\n",
    "    return y"
   ]
  },
  {
   "cell_type": "code",
   "execution_count": null,
   "metadata": {},
   "outputs": [],
   "source": [
    "# Calculate poisson probs - all strains\n",
    "all_strain_x = list(remove_df_scaled_plot_data.keys())\n",
    "all_strain_y = list(remove_df_scaled_plot_data.values())\n",
    "all_strain_y_prob = []\n",
    "# Find probs for x\n",
    "for elem in all_strain_x:\n",
    "    all_strain_prob_x = poisson(elem,5,20,48)\n",
    "    all_strain_y_prob.append(all_strain_prob_x)"
   ]
  },
  {
   "cell_type": "code",
   "execution_count": null,
   "metadata": {},
   "outputs": [],
   "source": [
    "# Calculate poisson probs - BL21 Strain\n",
    "bl21_x = list(bl21_scaled_plot_data.keys())\n",
    "bl21_y = list(bl21_scaled_plot_data.values())\n",
    "bl21_y_prob = []\n",
    "# Find probs for x\n",
    "for elem in bl21_x:\n",
    "    bl21_prob_x = poisson(elem,8,25,48)\n",
    "    bl21_y_prob.append(bl21_prob_x)"
   ]
  },
  {
   "cell_type": "code",
   "execution_count": null,
   "metadata": {},
   "outputs": [],
   "source": [
    "# Calculate poisson probs - MG1655 Strain\n",
    "mg1655_x = list(mg1655_scaled_plot_data.keys())\n",
    "mg1655_y = list(mg1655_scaled_plot_data.values())\n",
    "mg1655_y_prob = []\n",
    "# Find probs for x\n",
    "for elem in mg1655_x:\n",
    "    mg1655_prob_x = poisson(elem,5,15,35)\n",
    "    mg1655_y_prob.append(mg1655_prob_x)"
   ]
  },
  {
   "cell_type": "code",
   "execution_count": null,
   "metadata": {},
   "outputs": [],
   "source": [
    "# Rescale poisson probs - All Strains\n",
    "rescale_all_strain_y_prob = []\n",
    "for elem in all_strain_y_prob:\n",
    "    new_elem = elem/sum(all_strain_y_prob)\n",
    "    rescale_all_strain_y_prob.append(new_elem)"
   ]
  },
  {
   "cell_type": "code",
   "execution_count": null,
   "metadata": {},
   "outputs": [],
   "source": [
    "# Rescale poisson probs - BL21\n",
    "rescale_bl21_y_prob = []\n",
    "for elem in bl21_y_prob:\n",
    "    new_elem = elem/sum(bl21_y_prob)\n",
    "    rescale_bl21_y_prob.append(new_elem)"
   ]
  },
  {
   "cell_type": "code",
   "execution_count": null,
   "metadata": {},
   "outputs": [],
   "source": [
    "# Rescale poisson probs - MG1655\n",
    "rescale_mg1655_y_prob = []\n",
    "for elem in mg1655_y_prob:\n",
    "    new_elem = elem/sum(mg1655_y_prob)\n",
    "    rescale_mg1655_y_prob.append(new_elem)"
   ]
  },
  {
   "cell_type": "code",
   "execution_count": null,
   "metadata": {},
   "outputs": [],
   "source": [
    "# Plotting - All Strain\n",
    "plt.bar(all_strain_x,all_strain_y,label='data')\n",
    "plt.bar(all_strain_x,rescale_all_strain_y_prob,alpha=0.25,color='red',label='fit')\n",
    "plt.legend()"
   ]
  },
  {
   "cell_type": "code",
   "execution_count": null,
   "metadata": {},
   "outputs": [],
   "source": [
    "# Plotting - BL21\n",
    "plt.bar(bl21_x,bl21_y,label='data')\n",
    "plt.bar(bl21_x,rescale_bl21_y_prob,alpha=0.25,color='red',label='fit')\n",
    "plt.legend()"
   ]
  },
  {
   "cell_type": "code",
   "execution_count": null,
   "metadata": {},
   "outputs": [],
   "source": [
    "# Plotting - MG1655\n",
    "plt.bar(mg1655_x,mg1655_y,label='data')\n",
    "plt.bar(mg1655_x,rescale_mg1655_y_prob,alpha=0.25,color='red',label='fit')\n",
    "plt.legend()"
   ]
  },
  {
   "cell_type": "code",
   "execution_count": null,
   "metadata": {},
   "outputs": [],
   "source": [
    "# Prepare dataframes for chi square test\n",
    "d_all_strain = {'Normalised_T1SS(%)':all_strain_x, 'Obs_Freq':list(remove_df_plot_data.values()),'Prob':all_strain_y, 'Fit':rescale_all_strain_y_prob}\n",
    "d_bl21 = {'Normalised_T1SS(%)':bl21_x, 'Obs_Freq':list(bl21_plot_data.values()), 'Prob':bl21_y, 'Fit':rescale_bl21_y_prob}\n",
    "d_mg1655 = {'Normalised_T1SS(%)':mg1655_x, 'Obs_Freq':list(mg1655_plot_data.values()),'Prob':mg1655_y, 'Fit':rescale_mg1655_y_prob}"
   ]
  },
  {
   "cell_type": "code",
   "execution_count": null,
   "metadata": {},
   "outputs": [],
   "source": [
    "# Dataframes to test chi square goodness of fit\n",
    "data_all_strain = pd.DataFrame(data=d_all_strain)\n",
    "data_bl21 = pd.DataFrame(data=d_bl21)\n",
    "data_mg1655 = pd.DataFrame(data=d_mg1655)"
   ]
  },
  {
   "cell_type": "code",
   "execution_count": null,
   "metadata": {},
   "outputs": [],
   "source": [
    "# Calculate expected frequencies\n",
    "data_all_strain[\"Expct_Freq\"] = (data_all_strain[\"Fit\"] * sum(data_all_strain[\"Obs_Freq\"])).round(1)\n",
    "data_bl21[\"Expct_Freq\"] = (data_bl21[\"Fit\"] * sum(data_bl21[\"Obs_Freq\"])).round(1)\n",
    "data_mg1655[\"Expct_Freq\"] = (data_mg1655[\"Fit\"] * sum(data_mg1655[\"Obs_Freq\"])).round(1)"
   ]
  },
  {
   "cell_type": "code",
   "execution_count": null,
   "metadata": {},
   "outputs": [],
   "source": [
    "# Calculate square of observed minus expected\n",
    "data_all_strain[\"Obs-Expected_Squared\"] = (data_all_strain[\"Obs_Freq\"] - data_all_strain[\"Expct_Freq\"])**2\n",
    "data_bl21[\"Obs-Expected_Squared\"] = (data_bl21[\"Obs_Freq\"] - data_bl21[\"Expct_Freq\"])**2\n",
    "data_mg1655[\"Obs-Expected_Squared\"] = (data_mg1655[\"Obs_Freq\"] - data_mg1655[\"Expct_Freq\"])**2"
   ]
  },
  {
   "cell_type": "code",
   "execution_count": null,
   "metadata": {},
   "outputs": [],
   "source": [
    "# Calculate square obs mins expct divided by expct\n",
    "data_all_strain[\"Test\"] = data_all_strain[\"Obs-Expected_Squared\"]/data_all_strain[\"Expct_Freq\"]\n",
    "data_bl21[\"Test\"] = data_bl21[\"Obs-Expected_Squared\"]/data_bl21[\"Expct_Freq\"]\n",
    "data_mg1655[\"Test\"] = data_mg1655[\"Obs-Expected_Squared\"]/data_mg1655[\"Expct_Freq\"]"
   ]
  },
  {
   "cell_type": "code",
   "execution_count": null,
   "metadata": {},
   "outputs": [],
   "source": [
    "sum(data_all_strain[\"Test\"])"
   ]
  },
  {
   "cell_type": "code",
   "execution_count": null,
   "metadata": {},
   "outputs": [],
   "source": [
    "sum(data_bl21[\"Test\"])"
   ]
  },
  {
   "cell_type": "code",
   "execution_count": null,
   "metadata": {},
   "outputs": [],
   "source": [
    "sum(data_mg1655[\"Test\"])"
   ]
  },
  {
   "cell_type": "markdown",
   "metadata": {},
   "source": [
    "Don't reject null and thus parameterisation is fine."
   ]
  },
  {
   "cell_type": "markdown",
   "metadata": {},
   "source": [
    "### Exploratory Plots"
   ]
  },
  {
   "cell_type": "code",
   "execution_count": null,
   "metadata": {},
   "outputs": [],
   "source": [
    "# Plot CaCl2 for BL21 strain\n",
    "fig = sns.catplot(x=\"Cacl(mM)\", y=\"Normalised_T1SS(%)\", kind='box', data=bl21_remove_df)\n",
    "#fig.savefig(\"BL21 CaCl Plots.png\", dpi=300)"
   ]
  },
  {
   "cell_type": "code",
   "execution_count": null,
   "metadata": {},
   "outputs": [],
   "source": [
    "# Plot T1SS by E. coli strain\n",
    "fig = sns.catplot(x=\"Normalised_T1SS(%)\", y=\"Strain\", kind='box', height=4, aspect=2, data=remove_df)\n",
    "#fig.savefig(\"All Strain T1SS Plots.png\", dpi=300)"
   ]
  },
  {
   "cell_type": "code",
   "execution_count": null,
   "metadata": {},
   "outputs": [],
   "source": [
    "# Plot T1SS by expression order for BL21 strain\n",
    "fig = sns.catplot(x=\"Expression_Order\", y=\"Normalised_T1SS(%)\", kind='box', data=bl21_remove_df)\n",
    "#fig.savefig(\"BL21 Expression Order.png\", dpi=300)"
   ]
  },
  {
   "cell_type": "code",
   "execution_count": null,
   "metadata": {},
   "outputs": [],
   "source": [
    "# Plot by carbenicillin concentration for BL21 strain\n",
    "fig = sns.catplot(x=\"Carbenicillin_Concentration(ug/ml)\", y=\"Normalised_T1SS(%)\", kind='boxen', data=bl21_remove_df)\n",
    "#fig.savefig(\"BL21 Carb Conc.png\", dpi=300)"
   ]
  },
  {
   "cell_type": "code",
   "execution_count": null,
   "metadata": {},
   "outputs": [],
   "source": [
    "# Plot by kanamycin concentration for BL21 strain\n",
    "fig = sns.catplot(x=\"Kanamycin_Concentration(ug/ml)\", y=\"Normalised_T1SS(%)\", kind='boxen', data=bl21_remove_df)\n",
    "#fig.savefig(\"BL21 Kan Conc.png\", dpi=300)"
   ]
  },
  {
   "cell_type": "code",
   "execution_count": null,
   "metadata": {},
   "outputs": [],
   "source": [
    "# Plot by total expression time for BL21 strain\n",
    "fig = sns.catplot(x=\"Total_Expression_Time(hr)\", y=\"Normalised_T1SS(%)\", kind='box', data=bl21_remove_df)\n",
    "#fig.savefig(\"BL21 Time Course.png\", dpi=300)"
   ]
  },
  {
   "cell_type": "markdown",
   "metadata": {},
   "source": [
    "### Data Grouping for complex plots"
   ]
  },
  {
   "cell_type": "code",
   "execution_count": null,
   "metadata": {},
   "outputs": [],
   "source": [
    "# Group data - BL21 strain\n",
    "group_anti = bl21_remove_df.groupby([\"Carbenicillin_Concentration(ug/ml)\", \"Kanamycin_Concentration(ug/ml)\", \"Total_Expression_Time(hr)\", \"Cacl(mM)\"])[\"Normalised_T1SS(%)\"].mean().unstack()\n",
    "group_anti.reset_index(col_level=[\"Carbenicillin_Concentration(ug/ml)\", \"Kanamycin_Concentration(ug/ml)\", \"Total_Expression_Time(hr)\"],inplace=True)"
   ]
  },
  {
   "cell_type": "code",
   "execution_count": null,
   "metadata": {},
   "outputs": [],
   "source": [
    "# Get columns - BL21\n",
    "group_anti.columns = ['Carbenicillin_Concentration(ug/ml)','Kanamycin_Concentration(ug/ml)','Total_Expression_Time(hr)','0 mM CaCl', '1 mM CaCl', '2 mM CaCl', '5 mM CaCl', '8 mM CaCl', '10 mM CaCl']"
   ]
  },
  {
   "cell_type": "code",
   "execution_count": null,
   "metadata": {},
   "outputs": [],
   "source": [
    "# Combine by antibiotics - Bl21\n",
    "group_anti[\"Carbenicillin_+_Kanamycin_Concentration(ug/ml)\"] = group_anti[\"Carbenicillin_Concentration(ug/ml)\"].astype(str) + \"  ug/ml carbenicillin + \" + group_anti[\"Kanamycin_Concentration(ug/ml)\"].astype(str) + \" ug/ml kanamycin\""
   ]
  },
  {
   "cell_type": "code",
   "execution_count": null,
   "metadata": {},
   "outputs": [],
   "source": [
    "# Group data - MG1655\n",
    "mg1655_group_anti = mg1655_remove_df.groupby([\"Strain\",\"Carbenicillin_Concentration(ug/ml)\", \"Kanamycin_Concentration(ug/ml)\", \"Total_Expression_Time(hr)\", \"Cacl(mM)\"])[\"Normalised_T1SS(%)\"].mean().unstack()\n",
    "mg1655_group_anti.reset_index(col_level=['Strain', 'Carbenicillin_Concentration(ug/ml)', 'Kanamycin_Concentration(ug/ml)', 'Total_Expression_Time(hr)'],inplace=True)"
   ]
  },
  {
   "cell_type": "code",
   "execution_count": null,
   "metadata": {},
   "outputs": [],
   "source": [
    "# Get columns - MG1655\n",
    "mg1655_group_anti.columns = ['Strain','Carbenicillin_Concentration(ug/ml)','Kanamycin_Concentration(ug/ml)','Total_Expression_Time(hr)','0 mM CaCl', '2 mM CaCl', '5 mM CaCl', '8 mM CaCl', '10 mM CaCl']"
   ]
  },
  {
   "cell_type": "code",
   "execution_count": null,
   "metadata": {},
   "outputs": [],
   "source": [
    "# Combine by antibiotics - MG1655\n",
    "mg1655_group_anti[\"Carbenicillin_+_Kanamycin_Concentration(ug/ml)\"] = mg1655_group_anti[\"Carbenicillin_Concentration(ug/ml)\"].astype(str) + \"  ug/ml carbenicillin + \" + mg1655_group_anti[\"Kanamycin_Concentration(ug/ml)\"].astype(str) + \" ug/ml kanamycin\""
   ]
  },
  {
   "cell_type": "code",
   "execution_count": null,
   "metadata": {},
   "outputs": [],
   "source": [
    "# Group data - BL21 and MG1655 strains\n",
    "all_anti = remove_df.groupby([\"Strain\",\"Carbenicillin_Concentration(ug/ml)\", \"Kanamycin_Concentration(ug/ml)\", \"Total_Expression_Time(hr)\", \"Cacl(mM)\"])[\"Normalised_T1SS(%)\"].mean().unstack()\n",
    "all_anti.reset_index(col_level=[\"Carbenicillin_Concentration(ug/ml)\", \"Kanamycin_Concentration(ug/ml)\", \"Total_Expression_Time(hr)\"],inplace=True)"
   ]
  },
  {
   "cell_type": "code",
   "execution_count": null,
   "metadata": {},
   "outputs": [],
   "source": [
    "# Get columns - BL21 and MG1655\n",
    "all_anti.columns = ['Strain','Carbenicillin_Concentration(ug/ml)','Kanamycin_Concentration(ug/ml)','Total_Expression_Time(hr)','0 mM CaCl', '1 mM CaCl', '2 mM CaCl', '5 mM CaCl', '8 mM CaCl', '10 mM CaCl']"
   ]
  },
  {
   "cell_type": "code",
   "execution_count": null,
   "metadata": {},
   "outputs": [],
   "source": [
    "# Separate MG1655 by parent and cardiolipin deficient\n",
    "mg1655_parent_group_anti = mg1655_group_anti[mg1655_group_anti[\"Strain\"] == \"MG1655 Parent\"]\n",
    "mg1655_cls_group_anti = mg1655_group_anti[mg1655_group_anti[\"Strain\"] == \"MG1655 Delta cls\"]"
   ]
  },
  {
   "cell_type": "markdown",
   "metadata": {},
   "source": [
    "### Complex Plots"
   ]
  },
  {
   "cell_type": "code",
   "execution_count": null,
   "metadata": {},
   "outputs": [],
   "source": [
    "# Plot by total expression time - Bl21\n",
    "fig = sns.pairplot(group_anti,\n",
    "            x_vars=[\"Carbenicillin_Concentration(ug/ml)\", \"Kanamycin_Concentration(ug/ml)\"],\n",
    "            y_vars=[\"0 mM CaCl\", \"1 mM CaCl\", \"2 mM CaCl\", \"5 mM CaCl\", \"8 mM CaCl\", \"10 mM CaCl\"],\n",
    "            hue=\"Total_Expression_Time(hr)\")\n",
    "#fig.savefig(\"BL21 CaCl and Antibiotic Conc with Expression Time.png\", dpi=300)"
   ]
  },
  {
   "cell_type": "code",
   "execution_count": null,
   "metadata": {},
   "outputs": [],
   "source": [
    "# Plot by antibiotic concentration - Bl21\n",
    "g = sns.pairplot(group_anti,\n",
    "            x_vars=[\"0 mM CaCl\", \"1 mM CaCl\", \"2 mM CaCl\", \"5 mM CaCl\", \"8 mM CaCl\", \"10 mM CaCl\"],\n",
    "            y_vars=[\"Total_Expression_Time(hr)\"],\n",
    "            hue=\"Carbenicillin_+_Kanamycin_Concentration(ug/ml)\")\n",
    "g.savefig(\"BL21 CaCl and Expression Time coloured by antibiotic conc.png\", dpi=300)"
   ]
  },
  {
   "cell_type": "code",
   "execution_count": null,
   "metadata": {},
   "outputs": [],
   "source": [
    "# Plot by total expression time - MG1655\n",
    "g = sns.pairplot(mg1655_group_anti,\n",
    "            x_vars=[\"0 mM CaCl\", \"2 mM CaCl\", \"5 mM CaCl\", \"8 mM CaCl\"],\n",
    "            y_vars=[\"Total_Expression_Time(hr)\"],\n",
    "            hue=\"Strain\")\n",
    "g.savefig(\"MG1655 CaCl and Expression Time.png\", dpi=300)"
   ]
  },
  {
   "cell_type": "code",
   "execution_count": null,
   "metadata": {},
   "outputs": [],
   "source": [
    "# Plot by CaCl2 - MG1655\n",
    "fig = sns.pairplot(mg1655_group_anti,\n",
    "            x_vars=[\"Carbenicillin_Concentration(ug/ml)\", \"Kanamycin_Concentration(ug/ml)\",\"Total_Expression_Time(hr)\"],\n",
    "            y_vars=[\"0 mM CaCl\", \"2 mM CaCl\", \"5 mM CaCl\", \"8 mM CaCl\", \"10 mM CaCl\"],\n",
    "            hue=\"Strain\")\n",
    "fig.savefig(\"MG1655 CaCl and Antibiotic Conc with Expression Time.png\", dpi=300)"
   ]
  },
  {
   "cell_type": "code",
   "execution_count": null,
   "metadata": {},
   "outputs": [],
   "source": [
    "# Plot by total expression time - MG1655 parent only\n",
    "fig = sns.pairplot(mg1655_parent_group_anti,\n",
    "            x_vars=[\"Carbenicillin_Concentration(ug/ml)\", \"Kanamycin_Concentration(ug/ml)\"],\n",
    "            y_vars=[\"0 mM CaCl\", \"2 mM CaCl\", \"5 mM CaCl\", \"8 mM CaCl\", \"10 mM CaCl\"],\n",
    "            hue=\"Total_Expression_Time(hr)\")\n",
    "fig.savefig(\"MG1655 Parent CaCl and Antibiotic Conc with Expression Time.png\", dpi=300)"
   ]
  },
  {
   "cell_type": "code",
   "execution_count": null,
   "metadata": {},
   "outputs": [],
   "source": [
    "# Plot by total expression time - MG1655 cardiolipin deficient only\n",
    "fig = sns.pairplot(mg1655_cls_group_anti,\n",
    "            x_vars=[\"Carbenicillin_Concentration(ug/ml)\", \"Kanamycin_Concentration(ug/ml)\"],\n",
    "            y_vars=[\"0 mM CaCl\", \"2 mM CaCl\", \"5 mM CaCl\", \"8 mM CaCl\", \"10 mM CaCl\"],\n",
    "            hue=\"Total_Expression_Time(hr)\")\n",
    "fig.savefig(\"MG1655 Delta cls CaCl and Antibiotic Conc with Expression Time.png\", dpi=300)"
   ]
  },
  {
   "cell_type": "code",
   "execution_count": null,
   "metadata": {},
   "outputs": [],
   "source": [
    "# Plot by CaCl2 - all strains\n",
    "fig = sns.pairplot(all_anti,\n",
    "            x_vars=[\"Carbenicillin_Concentration(ug/ml)\", \"Kanamycin_Concentration(ug/ml)\", \"Total_Expression_Time(hr)\"],\n",
    "            y_vars=[\"0 mM CaCl\", \"1 mM CaCl\",\"2 mM CaCl\", \"5 mM CaCl\", \"8 mM CaCl\", \"10 mM CaCl\"],\n",
    "            hue=\"Strain\")\n",
    "fig.savefig(\"All Strains CaCl and Antibiotic Conc with Expression Time.png\", dpi=300)"
   ]
  }
 ],
 "metadata": {
  "kernelspec": {
   "display_name": "Python 3 (ipykernel)",
   "language": "python",
   "name": "python3"
  },
  "language_info": {
   "codemirror_mode": {
    "name": "ipython",
    "version": 3
   },
   "file_extension": ".py",
   "mimetype": "text/x-python",
   "name": "python",
   "nbconvert_exporter": "python",
   "pygments_lexer": "ipython3",
   "version": "3.10.9"
  }
 },
 "nbformat": 4,
 "nbformat_minor": 4
}
